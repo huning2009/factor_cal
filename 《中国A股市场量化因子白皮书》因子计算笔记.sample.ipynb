{
 "cells": [
  {
   "cell_type": "code",
   "execution_count": 1,
   "metadata": {},
   "outputs": [],
   "source": [
    "import pandas as pd\n",
    "import numpy as np\n",
    "pd.set_option(\"display.max_rows\", 10)\n",
    "\n",
    "# 日线数据\n",
    "df_daily = pd.read_csv(\"sample_data/daily/000001.SZ.csv.xz\")\n",
    "df_daily.sort_values(by=[\"trade_date\"], inplace=True)\n",
    "df_daily.reset_index(drop=True, inplace=True)\n",
    "# 每日重要的基本面指标\n",
    "df_daily_basic = pd.read_csv(\"sample_data/daily_basic/000001.SZ.csv.xz\")\n",
    "df_daily_basic.sort_values(by=[\"trade_date\"], inplace=True)\n",
    "df_daily_basic.reset_index(drop=True, inplace=True)\n",
    "# 资产负债表\n",
    "df_balancesheet = pd.read_csv(\"sample_data/balancesheet/000001.SZ.csv.xz\")\n",
    "df_balancesheet.sort_values(by=[\"ann_date\"], inplace=True)\n",
    "df_balancesheet.reset_index(drop=True, inplace=True)\n",
    "# 财务利润表\n",
    "df_income = pd.read_csv(\"sample_data/income/000001.SZ.csv.xz\")\n",
    "df_income.sort_values(by=[\"ann_date\"], inplace=True)\n",
    "df_income.reset_index(drop=True, inplace=True)\n",
    "# 财务指标数据\n",
    "df_fina_indicator = pd.read_csv(\"sample_data/fina_indicator/000001.SZ.csv.xz\")\n",
    "df_fina_indicator.sort_values(by=[\"ann_date\"], inplace=True)\n",
    "df_fina_indicator.reset_index(drop=True, inplace=True)"
   ]
  },
  {
   "cell_type": "markdown",
   "metadata": {},
   "source": [
    "# 交易摩擦类因子"
   ]
  },
  {
   "cell_type": "markdown",
   "metadata": {},
   "source": [
    "## 市值(firm size， size)"
   ]
  },
  {
   "cell_type": "markdown",
   "metadata": {},
   "source": [
    "### 【介绍】\n",
    "\n",
    "根据 Banz(1981)计算股票市值，即用**每个月月末的(最后一个交易日的)股票收盘价格(不复权价格)乘以每个月月末的 A 股流通股本**，也称其为 A 股流通市值。\n",
    "\n",
    "在每个月的月末(t)，按照月末 A 股流通市值将所有 A 股股票等分为 10 组。其中，A 股流通市值最小的 10% 的股票在第一组，A 股流通市值最大的 10% 的股票在第十组。然后，计算下一个月(t+1)各组流通市值加权的股票组合的月收益率及第十组与第一组收益率之差(即为因子收益率)。以此类推，在每个月月末计算 A 股流通市值并重新分组、计算组合收益率。"
   ]
  },
  {
   "cell_type": "markdown",
   "metadata": {},
   "source": [
    "### 【计算方法】\n",
    "\n",
    "由 **daily_basic** 直接获得【总市值（万元）】"
   ]
  },
  {
   "cell_type": "markdown",
   "metadata": {},
   "source": [
    "### 【缺省值说明】\n",
    "\n",
    "无"
   ]
  },
  {
   "cell_type": "markdown",
   "metadata": {},
   "source": [
    "### 【代码示例】"
   ]
  },
  {
   "cell_type": "code",
   "execution_count": 2,
   "metadata": {
    "scrolled": true
   },
   "outputs": [
    {
     "name": "stdout",
     "output_type": "stream",
     "text": [
      "      trade_date      total_mv\n",
      "0       19910403  2.376508e+05\n",
      "1       19910404  2.364868e+05\n",
      "2       19910405  2.353228e+05\n",
      "3       19910408  2.353228e+05\n",
      "4       19910409  2.329948e+05\n",
      "...          ...           ...\n",
      "6522    20181026  1.205326e+07\n",
      "6523    20181029  1.207611e+07\n",
      "6524    20181030  1.195044e+07\n",
      "6525    20181031  1.180192e+07\n",
      "6526    20181101  1.184762e+07\n",
      "\n",
      "[6527 rows x 2 columns]\n"
     ]
    }
   ],
   "source": [
    "df = pd.DataFrame()\n",
    "\n",
    "df['trade_date'] = df_daily.trade_date\n",
    "df['total_mv'] = df_daily_basic.total_mv\n",
    "print(df)"
   ]
  },
  {
   "cell_type": "markdown",
   "metadata": {},
   "source": [
    "# 动量因子"
   ]
  },
  {
   "cell_type": "markdown",
   "metadata": {},
   "source": [
    "## 12 个月动量 (12-month momentum, mom12)"
   ]
  },
  {
   "cell_type": "markdown",
   "metadata": {},
   "source": [
    "### 【介绍】\n",
    "\n",
    "根据 Jagadeesh (1990)，t 月份的 12 个月动量因子等于 t-12 月份末到 t-1 月份 末的累计日收益率。在 t 月份末，我们按照此 12 个月的动量因子将股票等分为 十组，再计算 t+1 月份的流通市值加权的各股票组合的月收益率。在每个月末重 新计算 12 个月的动量因子并进行股票分组。"
   ]
  },
  {
   "cell_type": "markdown",
   "metadata": {},
   "source": [
    "### 【TODO】\n",
    "\n",
    "【未完成原因】balabala"
   ]
  }
 ],
 "metadata": {
  "kernelspec": {
   "display_name": "Python 3",
   "language": "python",
   "name": "python3"
  },
  "language_info": {
   "codemirror_mode": {
    "name": "ipython",
    "version": 3
   },
   "file_extension": ".py",
   "mimetype": "text/x-python",
   "name": "python",
   "nbconvert_exporter": "python",
   "pygments_lexer": "ipython3",
   "version": "3.6.2"
  },
  "toc": {
   "base_numbering": 1,
   "nav_menu": {},
   "number_sections": true,
   "sideBar": true,
   "skip_h1_title": false,
   "title_cell": "Table of Contents",
   "title_sidebar": "Contents",
   "toc_cell": false,
   "toc_position": {
    "height": "calc(100% - 180px)",
    "left": "10px",
    "top": "150px",
    "width": "297px"
   },
   "toc_section_display": true,
   "toc_window_display": true
  }
 },
 "nbformat": 4,
 "nbformat_minor": 2
}
