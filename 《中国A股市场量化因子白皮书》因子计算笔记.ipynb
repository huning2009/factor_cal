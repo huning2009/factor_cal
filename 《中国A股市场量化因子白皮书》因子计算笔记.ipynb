{
 "cells": [
  {
   "cell_type": "markdown",
   "metadata": {},
   "source": [
    "大盘指数（基准）\n",
    "\n",
    "- 深圳成指 399001.SZ\n",
    "\n",
    "- 上证指数 000001.SH"
   ]
  },
  {
   "cell_type": "code",
   "execution_count": 4,
   "metadata": {},
   "outputs": [],
   "source": [
    "import pandas as pd\n",
    "import numpy as np\n",
    "pd.set_option(\"display.max_rows\", 10)\n",
    "\n",
    "# 日线数据\n",
    "df_daily = pd.read_csv(\"sample_data/daily/000001.SZ.csv.xz\")\n",
    "df_daily.sort_values(by=[\"trade_date\"], inplace=True)\n",
    "df_daily.reset_index(drop=True, inplace=True)\n",
    "# 指数日线数据\n",
    "df_index_daily = pd.read_csv(\"sample_data/index_daily/399001.SZ.csv.xz\")\n",
    "df_index_daily.sort_values(by=[\"trade_date\"], inplace=True)\n",
    "df_index_daily.reset_index(drop=True, inplace=True)\n",
    "# 每日重要的基本面指标\n",
    "df_daily_basic = pd.read_csv(\"sample_data/daily_basic/000001.SZ.csv.xz\")\n",
    "df_daily_basic.sort_values(by=[\"trade_date\"], inplace=True)\n",
    "df_daily_basic.reset_index(drop=True, inplace=True)\n",
    "# 资产负债表\n",
    "df_balancesheet = pd.read_csv(\"sample_data/balancesheet/000001.SZ.csv.xz\")\n",
    "df_balancesheet.sort_values(by=[\"ann_date\"], inplace=True)\n",
    "df_balancesheet.reset_index(drop=True, inplace=True)\n",
    "# 财务利润表\n",
    "df_income = pd.read_csv(\"sample_data/income/000001.SZ.csv.xz\")\n",
    "df_income.sort_values(by=[\"ann_date\"], inplace=True)\n",
    "df_income.reset_index(drop=True, inplace=True)\n",
    "# 财务指标数据\n",
    "df_fina_indicator = pd.read_csv(\"sample_data/fina_indicator/000001.SZ.csv.xz\")\n",
    "df_fina_indicator.sort_values(by=[\"ann_date\"], inplace=True)\n",
    "df_fina_indicator.reset_index(drop=True, inplace=True)"
   ]
  },
  {
   "cell_type": "markdown",
   "metadata": {},
   "source": [
    "# 交易摩擦类因子"
   ]
  },
  {
   "cell_type": "markdown",
   "metadata": {},
   "source": [
    "## 市值(firm size， size)"
   ]
  },
  {
   "cell_type": "markdown",
   "metadata": {},
   "source": [
    "### 【计算方法】\n",
    "\n",
    "由 **daily_basic** 直接获得【总市值（万元）】"
   ]
  },
  {
   "cell_type": "markdown",
   "metadata": {},
   "source": [
    "### 【说明】\n",
    "\n",
    "无"
   ]
  },
  {
   "cell_type": "markdown",
   "metadata": {},
   "source": [
    "### 【代码示例】"
   ]
  },
  {
   "cell_type": "code",
   "execution_count": 5,
   "metadata": {
    "scrolled": true
   },
   "outputs": [
    {
     "name": "stdout",
     "output_type": "stream",
     "text": [
      "20181101: 11847615.8941\n"
     ]
    }
   ],
   "source": [
    "df = pd.DataFrame()\n",
    "\n",
    "df['trade_date'] = df_daily.trade_date\n",
    "# 市值\n",
    "df['total_mv'] = df_daily_basic.total_mv\n",
    "\n",
    "print('{}: {}'.format(df['trade_date'].iloc[-1], df['total_mv'].iloc[-1]))"
   ]
  },
  {
   "cell_type": "markdown",
   "metadata": {},
   "source": [
    "## 系统性风险(market beta, beta)"
   ]
  },
  {
   "cell_type": "markdown",
   "metadata": {},
   "source": [
    "### 【计算方法】\n",
    "\n",
    "$$\n",
    "\\beta_i=\\rho_{i,m} \\frac{\\sigma_i}{\\sigma_m}\n",
    "$$\n",
    "\n",
    "$\\rho_{i,m}$: 股票 i 的收益率与大盘指数收益率的相关系数\n",
    "\n",
    "$\\sigma_i$: 股票 i 收益率的波动率(即标准差)\n",
    "\n",
    "$\\sigma_m$: 大盘指数收益率的波动率(即标准差)"
   ]
  },
  {
   "cell_type": "markdown",
   "metadata": {},
   "source": [
    "### 【说明】\n",
    "\n",
    "#### 基准\n",
    "\n",
    "大盘指数（基准）\n",
    "\n",
    "- 深圳成指 399001.SZ\n",
    "\n",
    "#### 复权\n",
    "\n",
    "实际计算中需要复权\n",
    "\n",
    "#### 滚动计算\n",
    "\n",
    "取过去 12 个月的数据"
   ]
  },
  {
   "cell_type": "markdown",
   "metadata": {},
   "source": [
    "### 【代码示例】"
   ]
  },
  {
   "cell_type": "code",
   "execution_count": 6,
   "metadata": {},
   "outputs": [
    {
     "name": "stdout",
     "output_type": "stream",
     "text": [
      "20181101: 0.01703850184053183\n"
     ]
    }
   ],
   "source": [
    "df = pd.DataFrame()\n",
    "\n",
    "df['trade_date'] = df_daily.trade_date\n",
    "df['pct_change'] = df_daily[\"pct_change\"].values\n",
    "df['pct_change_benchmark'] = df_index_daily[\"pct_change\"]\n",
    "df.dropna(inplace=True)\n",
    "cov = np.cov(np.vstack([\n",
    "            np.array(df[\"pct_change\"].values),\n",
    "            np.array(df[\"pct_change_benchmark\"].values)\n",
    "        ]), ddof=1)\n",
    "print('{}: {}'.format(df['trade_date'].iloc[-1], cov[0][1] / cov[1][1]))"
   ]
  },
  {
   "cell_type": "code",
   "execution_count": null,
   "metadata": {},
   "outputs": [],
   "source": []
  },
  {
   "cell_type": "code",
   "execution_count": 1,
   "metadata": {},
   "outputs": [
    {
     "name": "stdout",
     "output_type": "stream",
     "text": [
      "hello\n"
     ]
    }
   ],
   "source": [
    "print('hello')"
   ]
  },
  {
   "cell_type": "markdown",
   "metadata": {},
   "source": [
    "# 动量因子"
   ]
  },
  {
   "cell_type": "markdown",
   "metadata": {},
   "source": [
    "## 12 个月动量 (12-month momentum, mom12)"
   ]
  },
  {
   "cell_type": "markdown",
   "metadata": {},
   "source": [
    "### 【TODO】\n",
    "\n",
    "【未完成原因】balabala"
   ]
  }
 ],
 "metadata": {
  "kernelspec": {
   "display_name": "Python 3",
   "language": "python",
   "name": "python3"
  },
  "language_info": {
   "codemirror_mode": {
    "name": "ipython",
    "version": 3
   },
   "file_extension": ".py",
   "mimetype": "text/x-python",
   "name": "python",
   "nbconvert_exporter": "python",
   "pygments_lexer": "ipython3",
   "version": "3.6.7"
  },
  "toc": {
   "base_numbering": 1,
   "nav_menu": {},
   "number_sections": true,
   "sideBar": true,
   "skip_h1_title": false,
   "title_cell": "Table of Contents",
   "title_sidebar": "Contents",
   "toc_cell": false,
   "toc_position": {
    "height": "calc(100% - 180px)",
    "left": "10px",
    "top": "150px",
    "width": "297px"
   },
   "toc_section_display": true,
   "toc_window_display": true
  }
 },
 "nbformat": 4,
 "nbformat_minor": 2
}
