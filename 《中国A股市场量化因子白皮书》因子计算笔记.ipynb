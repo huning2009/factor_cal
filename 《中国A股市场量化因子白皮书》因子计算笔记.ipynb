{
 "cells": [
  {
   "cell_type": "markdown",
   "metadata": {},
   "source": [
    "大盘指数（基准）\n",
    "\n",
    "- 深圳成指 399001.SZ\n",
    "\n",
    "- 上证指数 000001.SH"
   ]
  },
  {
   "cell_type": "code",
   "execution_count": 3,
   "metadata": {},
   "outputs": [],
   "source": [
    "import pandas as pd\n",
    "import numpy as np\n",
    "pd.set_option(\"display.max_rows\", 10)\n",
    "\n",
    "# 日线数据\n",
    "df_daily = pd.read_csv(\"sample_data/daily/000001.SZ.csv.xz\")\n",
    "df_daily.sort_values(by=[\"trade_date\"], inplace=True)\n",
    "df_daily.reset_index(drop=True, inplace=True)\n",
    "# 指数日线数据\n",
    "df_index_daily = pd.read_csv(\"sample_data/index_daily/399001.SZ.csv.xz\")\n",
    "df_index_daily.sort_values(by=[\"trade_date\"], inplace=True)\n",
    "df_index_daily.reset_index(drop=True, inplace=True)\n",
    "# 每日重要的基本面指标\n",
    "df_daily_basic = pd.read_csv(\"sample_data/daily_basic/000001.SZ.csv.xz\")\n",
    "df_daily_basic.sort_values(by=[\"trade_date\"], inplace=True)\n",
    "df_daily_basic.reset_index(drop=True, inplace=True)\n",
    "# 资产负债表\n",
    "df_balancesheet = pd.read_csv(\"sample_data/balancesheet/000001.SZ.csv.xz\")\n",
    "df_balancesheet.sort_values(by=[\"ann_date\"], inplace=True)\n",
    "df_balancesheet.reset_index(drop=True, inplace=True)\n",
    "# 财务利润表\n",
    "df_income = pd.read_csv(\"sample_data/income/000001.SZ.csv.xz\")\n",
    "df_income.sort_values(by=[\"ann_date\"], inplace=True)\n",
    "df_income.reset_index(drop=True, inplace=True)\n",
    "# 财务指标数据\n",
    "df_fina_indicator = pd.read_csv(\"sample_data/fina_indicator/000001.SZ.csv.xz\")\n",
    "df_fina_indicator.sort_values(by=[\"ann_date\"], inplace=True)\n",
    "df_fina_indicator.reset_index(drop=True, inplace=True)"
   ]
  },
  {
   "cell_type": "markdown",
   "metadata": {},
   "source": [
    "# 交易摩擦类因子"
   ]
  },
  {
   "cell_type": "markdown",
   "metadata": {},
   "source": [
    "## 市值(firm size， size)"
   ]
  },
  {
   "cell_type": "markdown",
   "metadata": {},
   "source": [
    "### 【计算方法】\n",
    "\n",
    "由 **daily_basic** 直接获得【总市值（万元）】"
   ]
  },
  {
   "cell_type": "markdown",
   "metadata": {},
   "source": [
    "### 【说明】\n",
    "\n",
    "无"
   ]
  },
  {
   "cell_type": "markdown",
   "metadata": {},
   "source": [
    "### 【代码示例】"
   ]
  },
  {
   "cell_type": "code",
   "execution_count": 72,
   "metadata": {
    "scrolled": true
   },
   "outputs": [
    {
     "name": "stdout",
     "output_type": "stream",
     "text": [
      "20181101: 11847615.8941\n"
     ]
    }
   ],
   "source": [
    "df = pd.DataFrame()\n",
    "\n",
    "df['trade_date'] = df_daily.trade_date\n",
    "# 市值\n",
    "df['total_mv'] = df_daily_basic.total_mv\n",
    "\n",
    "print('{}: {}'.format(df['trade_date'].iloc[-1], df['total_mv'].iloc[-1]))"
   ]
  },
  {
   "cell_type": "markdown",
   "metadata": {},
   "source": [
    "## 系统性风险(market beta, beta)"
   ]
  },
  {
   "cell_type": "markdown",
   "metadata": {},
   "source": [
    "### 【计算方法】\n",
    "\n",
    "$$\n",
    "\\beta_i=\\rho_{i,m} \\frac{\\sigma_i}{\\sigma_m}\n",
    "$$\n",
    "\n",
    "$\\rho_{i,m}$: 股票 i 的收益率与大盘指数收益率的相关系数\n",
    "\n",
    "$\\sigma_i$: 股票 i 收益率的波动率(即标准差)\n",
    "\n",
    "$\\sigma_m$: 大盘指数收益率的波动率(即标准差)"
   ]
  },
  {
   "cell_type": "markdown",
   "metadata": {},
   "source": [
    "### 【说明】\n",
    "\n",
    "#### 基准\n",
    "\n",
    "大盘指数（基准）\n",
    "\n",
    "- 深圳成指 399001.SZ\n",
    "\n",
    "#### 复权\n",
    "\n",
    "实际计算中需要复权\n",
    "\n",
    "#### 滚动计算\n",
    "\n",
    "取过去 12 个月的数据"
   ]
  },
  {
   "cell_type": "markdown",
   "metadata": {},
   "source": [
    "### 【代码示例】"
   ]
  },
  {
   "cell_type": "code",
   "execution_count": 23,
   "metadata": {},
   "outputs": [
    {
     "name": "stdout",
     "output_type": "stream",
     "text": [
      "20181101: 0.01703850184053183\n"
     ]
    }
   ],
   "source": [
    "df = pd.DataFrame()\n",
    "\n",
    "df['trade_date'] = df_daily.trade_date\n",
    "df['pct_change'] = df_daily[\"pct_change\"].values\n",
    "df['pct_change_benchmark'] = df_index_daily[\"pct_change\"]\n",
    "df.dropna(inplace=True)\n",
    "cov = np.cov(np.vstack([\n",
    "            np.array(df[\"pct_change\"].values),\n",
    "            np.array(df[\"pct_change_benchmark\"].values)\n",
    "        ]), ddof=1)\n",
    "print('{}: {}'.format(df['trade_date'].iloc[-1], cov[0][1] / cov[1][1]))"
   ]
  },
  {
   "cell_type": "markdown",
   "metadata": {},
   "source": [
    "## 下行风险 (downside beta，betad)"
   ]
  },
  {
   "cell_type": "markdown",
   "metadata": {},
   "source": [
    "### 【计算方法】\n",
    "\n",
    "$$\n",
    "\\beta^- = \\frac{Cov(r_i, r_m|r_i < u_m)}{Var(r_m|r_m < u_m)}\n",
    "$$\n",
    "\n",
    "$𝑟_i$ 和 $𝑟_m$ 分别代表股票和大盘指数的收益率\n",
    "\n",
    "$u_m$ 是大盘收益率的均值"
   ]
  },
  {
   "cell_type": "markdown",
   "metadata": {},
   "source": [
    "### 【说明】\n",
    "\n",
    "#### 基准\n",
    "\n",
    "大盘指数（基准）\n",
    "\n",
    "- 深圳成指 399001.SZ\n",
    "\n",
    "#### 复权\n",
    "\n",
    "实际计算中需要复权\n",
    "\n",
    "#### 滚动计算\n",
    "\n",
    "取过去 12 个月的数据"
   ]
  },
  {
   "cell_type": "markdown",
   "metadata": {},
   "source": [
    "### 【代码示例】"
   ]
  },
  {
   "cell_type": "code",
   "execution_count": 68,
   "metadata": {},
   "outputs": [
    {
     "name": "stdout",
     "output_type": "stream",
     "text": [
      "[var]: 2.2210715724726264\n",
      "[cov]: 0.038248650969275565\n",
      "[20181101]: 0.017220809740361016\n"
     ]
    }
   ],
   "source": [
    "df = pd.DataFrame()\n",
    "\n",
    "df['trade_date'] = df_daily.trade_date\n",
    "df['pct_change'] = df_daily[\"pct_change\"]\n",
    "df['pct_change_benchmark'] = df_index_daily[\"pct_change\"]\n",
    "df.dropna(inplace=True)\n",
    "\n",
    "# u_m\n",
    "ave_pct_change_benchmark = np.mean(df['pct_change_benchmark'])\n",
    "\n",
    "# calculate var\n",
    "var = np.var(df[df['pct_change_benchmark'] < ave_pct_change_benchmark]['pct_change_benchmark'], ddof=1)\n",
    "print('[var]: {}'.format(var))\n",
    "\n",
    "# calculate cov\n",
    "df['pct_change'] = df[df['pct_change'] < ave_pct_change_benchmark]['pct_change']\n",
    "df.dropna(inplace=True)\n",
    "cov = np.cov(np.vstack([\n",
    "            np.array(df[\"pct_change\"].values),\n",
    "            np.array(df[\"pct_change_benchmark\"].values)\n",
    "        ]), ddof=1)\n",
    "print('[cov]: {}'.format(cov[0][1]))\n",
    "\n",
    "print('[{}]: {}'.format(df['trade_date'].iloc[-1], cov[0][1] / var))"
   ]
  },
  {
   "cell_type": "markdown",
   "metadata": {},
   "source": [
    "## 特定波动率 (idiosyncratic volatility, idvol)"
   ]
  },
  {
   "cell_type": "markdown",
   "metadata": {},
   "source": [
    "### 【计算方法】\n",
    "\n",
    "将股票收益率对市场大盘指数收益率进行回归，所得残差的标准差即为特定波动率\n",
    "\n",
    "$$\n",
    "r_{i,t} = \\alpha_i + \\beta_i * r_{m,t} + \\epsilon_{i,t}\n",
    "$$\n",
    "\n",
    "$𝑟_i$ 和 $𝑟_m$ 分别代表股票和大盘指数的收益率"
   ]
  },
  {
   "cell_type": "markdown",
   "metadata": {},
   "source": [
    "### 【说明】\n",
    "\n",
    "#### 基准\n",
    "\n",
    "大盘指数（基准）\n",
    "\n",
    "- 深圳成指 399001.SZ\n",
    "\n",
    "#### 复权\n",
    "\n",
    "实际计算中需要复权\n",
    "\n",
    "#### 滚动计算\n",
    "\n",
    "取过去 12 个月的数据"
   ]
  },
  {
   "cell_type": "markdown",
   "metadata": {},
   "source": [
    "### 【代码示例】"
   ]
  },
  {
   "cell_type": "code",
   "execution_count": 70,
   "metadata": {},
   "outputs": [
    {
     "name": "stdout",
     "output_type": "stream",
     "text": [
      "[resid]:\n",
      "1      -0.564846\n",
      "2      -0.564977\n",
      "3      -1.064877\n",
      "4      -0.574851\n",
      "5      -0.574790\n",
      "          ...   \n",
      "6522   -1.040566\n",
      "6523   -3.939371\n",
      "6524    1.301618\n",
      "6525   -0.012900\n",
      "6526   -0.832251\n",
      "Length: 6526, dtype: float64\n",
      "[20181101]: 2.74315920527903\n"
     ]
    }
   ],
   "source": [
    "import statsmodels.formula.api as sm\n",
    "\n",
    "df = pd.DataFrame()\n",
    "\n",
    "df['trade_date'] = df_daily.trade_date\n",
    "df['pct_change'] = df_daily[\"pct_change\"]\n",
    "df['pct_change_benchmark'] = df_index_daily[\"pct_change\"]\n",
    "df.dropna(inplace=True)\n",
    "\n",
    "model = sm.ols(formula = 'pct_change ~ pct_change_benchmark',data = df).fit()\n",
    "resid = model.resid\n",
    "print('[resid]:\\n{}'.format(resid))\n",
    "\n",
    "print('[{}]: {}'.format(df['trade_date'].iloc[-1], np.sqrt(np.var(resid))))"
   ]
  },
  {
   "cell_type": "markdown",
   "metadata": {},
   "source": [
    "## 总波动率(total volatility, vol)"
   ]
  },
  {
   "cell_type": "markdown",
   "metadata": {},
   "source": [
    "### 【计算方法】\n",
    "\n",
    "股票日收益率的标准差"
   ]
  },
  {
   "cell_type": "markdown",
   "metadata": {},
   "source": [
    "### 【说明】\n",
    "\n",
    "#### 复权\n",
    "\n",
    "实际计算中需要复权\n",
    "\n",
    "#### 滚动计算\n",
    "\n",
    "取过去 12 个月的数据"
   ]
  },
  {
   "cell_type": "markdown",
   "metadata": {},
   "source": [
    "### 【代码示例】"
   ]
  },
  {
   "cell_type": "code",
   "execution_count": 90,
   "metadata": {},
   "outputs": [
    {
     "name": "stdout",
     "output_type": "stream",
     "text": [
      "[20181101]: 2.7547858711294775\n"
     ]
    }
   ],
   "source": [
    "df = pd.DataFrame()\n",
    "\n",
    "df['trade_date'] = df_daily.trade_date\n",
    "df['pct_change'] = df_daily[\"pct_change\"]\n",
    "df.dropna(inplace=True)\n",
    "\n",
    "print('[{}]: {}'.format(df['trade_date'].iloc[-1], np.std(df['pct_change'])))"
   ]
  },
  {
   "cell_type": "markdown",
   "metadata": {},
   "source": [
    "## 特定偏态 (idiosyncratic skewness, idskew)"
   ]
  },
  {
   "cell_type": "markdown",
   "metadata": {},
   "source": [
    "### 【计算方法】\n",
    "\n",
    "特定偏态的计算过程与与**特定波动率**基本一致，区别在于计算残差的偏态而非标准差。"
   ]
  },
  {
   "cell_type": "markdown",
   "metadata": {},
   "source": [
    "### 【说明】\n",
    "\n",
    "#### 基准\n",
    "\n",
    "大盘指数（基准）\n",
    "\n",
    "- 深圳成指 399001.SZ\n",
    "\n",
    "#### 复权\n",
    "\n",
    "实际计算中需要复权\n",
    "\n",
    "#### 滚动计算\n",
    "\n",
    "取过去 12 个月的数据"
   ]
  },
  {
   "cell_type": "markdown",
   "metadata": {},
   "source": [
    "### 【代码示例】"
   ]
  },
  {
   "cell_type": "code",
   "execution_count": 88,
   "metadata": {},
   "outputs": [
    {
     "name": "stdout",
     "output_type": "stream",
     "text": [
      "[resid]:\n",
      "1      -0.564846\n",
      "2      -0.564977\n",
      "3      -1.064877\n",
      "4      -0.574851\n",
      "5      -0.574790\n",
      "          ...   \n",
      "6522   -1.040566\n",
      "6523   -3.939371\n",
      "6524    1.301618\n",
      "6525   -0.012900\n",
      "6526   -0.832251\n",
      "Length: 6526, dtype: float64\n",
      "[20181101]: 0.9750345704069766\n"
     ]
    }
   ],
   "source": [
    "import statsmodels.formula.api as sm\n",
    "from scipy.stats import skew\n",
    "\n",
    "df = pd.DataFrame()\n",
    "\n",
    "df['trade_date'] = df_daily.trade_date\n",
    "df['pct_change'] = df_daily[\"pct_change\"]\n",
    "df['pct_change_benchmark'] = df_index_daily[\"pct_change\"]\n",
    "df.dropna(inplace=True)\n",
    "\n",
    "model = sm.ols(formula = 'pct_change ~ pct_change_benchmark',data = df).fit()\n",
    "resid = model.resid\n",
    "print('[resid]:\\n{}'.format(resid))\n",
    "print('[{}]: {}'.format(df['trade_date'].iloc[-1], skew(resid)))"
   ]
  },
  {
   "cell_type": "markdown",
   "metadata": {},
   "source": [
    "## 总偏态 (total skewness, skew12)"
   ]
  },
  {
   "cell_type": "markdown",
   "metadata": {},
   "source": [
    "### 【计算方法】\n",
    "\n",
    "股票日收益率的偏态。"
   ]
  },
  {
   "cell_type": "markdown",
   "metadata": {},
   "source": [
    "### 【说明】\n",
    "\n",
    "#### 复权\n",
    "\n",
    "实际计算中需要复权\n",
    "\n",
    "#### 滚动计算\n",
    "\n",
    "取过去 12 个月的数据"
   ]
  },
  {
   "cell_type": "markdown",
   "metadata": {},
   "source": [
    "### 【代码示例】"
   ]
  },
  {
   "cell_type": "code",
   "execution_count": 91,
   "metadata": {},
   "outputs": [
    {
     "name": "stdout",
     "output_type": "stream",
     "text": [
      "[20181101]: 0.9051220455030352\n"
     ]
    }
   ],
   "source": [
    "from scipy.stats import skew\n",
    "\n",
    "df = pd.DataFrame()\n",
    "\n",
    "df['trade_date'] = df_daily.trade_date\n",
    "df['pct_change'] = df_daily[\"pct_change\"]\n",
    "df.dropna(inplace=True)\n",
    "\n",
    "print('[{}]: {}'.format(df['trade_date'].iloc[-1], skew(df['pct_change'])))"
   ]
  },
  {
   "cell_type": "markdown",
   "metadata": {},
   "source": [
    "## 共同偏态 (coskewness, coskew12)"
   ]
  },
  {
   "cell_type": "markdown",
   "metadata": {},
   "source": [
    "### 【计算方法】\n",
    "\n",
    "选用第二种。\n",
    "\n",
    "[Harvey and Siddique (2000)]\n",
    "\n",
    "$$\n",
    "coskew = \\frac{E[\\epsilon_i\\epsilon_m^2]}{\\sqrt{E[\\epsilon_i^2]}E[\\epsilon_m^2]}\n",
    "$$\n",
    "\n",
    "[Ang, Chen, and Xing (2006)]\n",
    "\n",
    "$$\n",
    "coskew = \\frac{E[(r_i-\\mu_i)(r_m-\\mu_m)^2]}{\\sqrt{var(r_i)}var(r_m)}\n",
    "$$\n",
    "\n",
    "$𝑟_i$ 和 $𝑟_m$ 分别代表股票和大盘指数的收益率"
   ]
  },
  {
   "cell_type": "markdown",
   "metadata": {},
   "source": [
    "### 【说明】\n",
    "\n",
    "#### 基准\n",
    "\n",
    "大盘指数（基准）\n",
    "\n",
    "- 深圳成指 399001.SZ\n",
    "\n",
    "#### 复权\n",
    "\n",
    "实际计算中需要复权\n",
    "\n",
    "#### 滚动计算\n",
    "\n",
    "取过去 12 个月的数据"
   ]
  },
  {
   "cell_type": "markdown",
   "metadata": {},
   "source": [
    "### 【代码示例】"
   ]
  },
  {
   "cell_type": "code",
   "execution_count": 94,
   "metadata": {},
   "outputs": [
    {
     "name": "stdout",
     "output_type": "stream",
     "text": [
      "[20181101]: 0.11987603507199311\n"
     ]
    }
   ],
   "source": [
    "from scipy.stats import skew\n",
    "\n",
    "df = pd.DataFrame()\n",
    "\n",
    "df['trade_date'] = df_daily.trade_date\n",
    "df['pct_change'] = df_daily[\"pct_change\"]\n",
    "df['pct_change_benchmark'] = df_index_daily[\"pct_change\"]\n",
    "df.dropna(inplace=True)\n",
    "\n",
    "ave_pct_change = np.mean(df['pct_change'])\n",
    "ave_pct_change_benchmark = np.mean(df['pct_change_benchmark'])\n",
    "numerator = np.mean((df['pct_change'] - ave_pct_change) * np.square(df['pct_change_benchmark'] - ave_pct_change_benchmark))\n",
    "denominator = np.sqrt(np.var(df['pct_change'])) * np.var(df['pct_change_benchmark'])\n",
    "\n",
    "print('[{}]: {}'.format(df['trade_date'].iloc[-1], numerator / denominator))"
   ]
  },
  {
   "cell_type": "markdown",
   "metadata": {},
   "source": [
    "# 动量因子"
   ]
  },
  {
   "cell_type": "markdown",
   "metadata": {},
   "source": [
    "## 12 个月动量 (12-month momentum, mom12)"
   ]
  },
  {
   "cell_type": "markdown",
   "metadata": {},
   "source": [
    "### 【TODO】\n",
    "\n",
    "【未完成原因】balabala"
   ]
  }
 ],
 "metadata": {
  "kernelspec": {
   "display_name": "Python 3",
   "language": "python",
   "name": "python3"
  },
  "language_info": {
   "codemirror_mode": {
    "name": "ipython",
    "version": 3
   },
   "file_extension": ".py",
   "mimetype": "text/x-python",
   "name": "python",
   "nbconvert_exporter": "python",
   "pygments_lexer": "ipython3",
   "version": "3.6.2"
  },
  "toc": {
   "base_numbering": 1,
   "nav_menu": {},
   "number_sections": true,
   "sideBar": true,
   "skip_h1_title": false,
   "title_cell": "Table of Contents",
   "title_sidebar": "Contents",
   "toc_cell": false,
   "toc_position": {
    "height": "calc(100% - 180px)",
    "left": "10px",
    "top": "150px",
    "width": "213px"
   },
   "toc_section_display": true,
   "toc_window_display": true
  }
 },
 "nbformat": 4,
 "nbformat_minor": 2
}
